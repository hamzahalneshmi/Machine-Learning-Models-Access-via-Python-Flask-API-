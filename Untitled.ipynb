{
 "cells": [
  {
   "cell_type": "code",
   "execution_count": 11,
   "metadata": {},
   "outputs": [
    {
     "name": "stdout",
     "output_type": "stream",
     "text": [
      "1970-01-01    1460.475451\n",
      "1970-02-01    1454.739710\n",
      "1970-03-01    1432.662135\n",
      "1970-04-01    1453.188738\n",
      "1970-05-01    1423.629494\n",
      "1970-06-01    1378.930720\n",
      "1970-07-01    1342.589445\n",
      "1970-08-01    1310.743035\n",
      "1970-09-01    1398.221209\n",
      "1970-10-01    1462.395311\n",
      "1970-11-01    1472.159934\n",
      "1970-12-01    1413.137774\n",
      "1971-01-01    1515.472583\n",
      "1971-02-01    1519.530853\n",
      "1971-03-01    1492.250311\n",
      "1971-04-01    1515.212646\n",
      "1971-05-01    1488.384969\n",
      "1971-06-01    1450.903239\n",
      "1971-07-01    1417.937220\n",
      "1971-08-01    1387.052431\n",
      "1971-09-01    1472.590382\n",
      "1971-10-01    1534.641957\n",
      "1971-11-01    1545.179179\n",
      "1971-12-01    1488.449813\n",
      "1972-01-01    1588.437443\n",
      "1972-02-01    1595.665216\n",
      "1972-03-01    1566.700908\n",
      "1972-04-01    1590.451487\n",
      "1972-05-01    1564.507789\n",
      "1972-06-01    1529.361613\n",
      "1972-07-01    1497.487883\n",
      "Freq: MS, dtype: float64\n"
     ]
    }
   ],
   "source": [
    "import numpy as np\n",
    "from flask import Flask, request, jsonify\n",
    "import pickle\n",
    "\n",
    "app = Flask(__name__)\n",
    "\n",
    "model = pickle.load(open(r'..\\ARIMA EX2\\model.pkl','rb'))\n",
    "print(model.predict(120, 150))"
   ]
  },
  {
   "cell_type": "code",
   "execution_count": 2,
   "metadata": {},
   "outputs": [],
   "source": [
    "@app.route('/api',methods=['POST'])\n",
    "def predict():\n",
    "    # Get the data from the POST request.\n",
    "    data = request.get_json(force=True)\n",
    "    # Make prediction using model loaded from disk as per the data.\n",
    "    prediction = model.predict([[np.array(data['exp'])]])\n",
    "    # Take the first value of prediction\n",
    "    output = prediction[0]\n",
    "    return jsonify(output)"
   ]
  },
  {
   "cell_type": "code",
   "execution_count": 4,
   "metadata": {},
   "outputs": [
    {
     "name": "stdout",
     "output_type": "stream",
     "text": [
      " * Serving Flask app \"__main__\" (lazy loading)\n",
      " * Environment: production\n",
      "   WARNING: This is a development server. Do not use it in a production deployment.\n",
      "   Use a production WSGI server instead.\n",
      " * Debug mode: on\n"
     ]
    },
    {
     "name": "stderr",
     "output_type": "stream",
     "text": [
      " * Restarting with stat\n"
     ]
    },
    {
     "ename": "SystemExit",
     "evalue": "1",
     "output_type": "error",
     "traceback": [
      "An exception has occurred, use %tb to see the full traceback.\n",
      "\u001b[1;31mSystemExit\u001b[0m\u001b[1;31m:\u001b[0m 1\n"
     ]
    }
   ],
   "source": [
    "if __name__ == '__main__':\n",
    "    app.run(port=5000, debug=True)"
   ]
  },
  {
   "cell_type": "code",
   "execution_count": null,
   "metadata": {},
   "outputs": [],
   "source": []
  }
 ],
 "metadata": {
  "kernelspec": {
   "display_name": "Python 3",
   "language": "python",
   "name": "python3"
  },
  "language_info": {
   "codemirror_mode": {
    "name": "ipython",
    "version": 3
   },
   "file_extension": ".py",
   "mimetype": "text/x-python",
   "name": "python",
   "nbconvert_exporter": "python",
   "pygments_lexer": "ipython3",
   "version": "3.7.4"
  }
 },
 "nbformat": 4,
 "nbformat_minor": 2
}
